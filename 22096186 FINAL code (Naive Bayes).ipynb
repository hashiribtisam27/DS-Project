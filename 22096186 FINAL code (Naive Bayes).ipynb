{
 "cells": [
  {
   "cell_type": "code",
   "execution_count": 3,
   "id": "3424a66e-428b-46f6-91c4-8ef6db5d2bf7",
   "metadata": {},
   "outputs": [
    {
     "name": "stdout",
     "output_type": "stream",
     "text": [
      "     tweet_id     Emotion                                               Text\n",
      "0  1956967341       empty  @tiffanylue i know  i was listenin to bad habi...\n",
      "1  1956967666     sadness  Layin n bed with a headache  ughhhh...waitin o...\n",
      "2  1956967696     sadness                Funeral ceremony...gloomy friday...\n",
      "3  1956967789  enthusiasm               wants to hang out with friends SOON!\n",
      "4  1956968416     neutral  @dannycastillo We want to trade with someone w...\n",
      "Accuracy: 0.32\n"
     ]
    },
    {
     "name": "stderr",
     "output_type": "stream",
     "text": [
      "C:\\Users\\MrLaptop\\anaconda3\\Lib\\site-packages\\sklearn\\metrics\\_classification.py:1344: UndefinedMetricWarning: Precision and F-score are ill-defined and being set to 0.0 in labels with no predicted samples. Use `zero_division` parameter to control this behavior.\n",
      "  _warn_prf(average, modifier, msg_start, len(result))\n",
      "C:\\Users\\MrLaptop\\anaconda3\\Lib\\site-packages\\sklearn\\metrics\\_classification.py:1344: UndefinedMetricWarning: Precision and F-score are ill-defined and being set to 0.0 in labels with no predicted samples. Use `zero_division` parameter to control this behavior.\n",
      "  _warn_prf(average, modifier, msg_start, len(result))\n"
     ]
    },
    {
     "name": "stdout",
     "output_type": "stream",
     "text": [
      "\n",
      "Classification Report:\n",
      "               precision    recall  f1-score   support\n",
      "\n",
      "       anger       0.00      0.00      0.00        19\n",
      "     boredom       0.00      0.00      0.00        31\n",
      "       empty       0.00      0.00      0.00       162\n",
      "  enthusiasm       0.00      0.00      0.00       163\n",
      "         fun       0.00      0.00      0.00       338\n",
      "   happiness       0.36      0.25      0.29      1028\n",
      "        hate       0.50      0.00      0.01       268\n",
      "        love       0.53      0.25      0.34       762\n",
      "     neutral       0.30      0.54      0.39      1740\n",
      "      relief       0.00      0.00      0.00       352\n",
      "     sadness       0.38      0.09      0.14      1046\n",
      "    surprise       0.00      0.00      0.00       425\n",
      "       worry       0.29      0.63      0.40      1666\n",
      "\n",
      "    accuracy                           0.32      8000\n",
      "   macro avg       0.18      0.14      0.12      8000\n",
      "weighted avg       0.29      0.32      0.26      8000\n",
      "\n",
      "Confusion Matrix:\n",
      " [[   0    0    0    0    0    0    0    0    9    0    1    0    9]\n",
      " [   0    0    0    0    0    0    0    0    8    0    1    0   22]\n",
      " [   0    0    0    0    0    6    0    3   88    0    7    0   58]\n",
      " [   0    0    0    0    0   18    0    3   84    0    2    0   56]\n",
      " [   0    0    0    0    0   53    0   10  150    0    2    0  123]\n",
      " [   0    0    0    0    0  255    0   67  437    0    8    0  261]\n",
      " [   0    0    0    0    0    6    1    0   72    0   15    0  174]\n",
      " [   0    0    0    0    0  133    0  191  242    0   15    0  181]\n",
      " [   0    0    0    0    0   86    0   32  941    0   32    0  649]\n",
      " [   0    0    0    0    0   39    0   10  154    0    2    0  147]\n",
      " [   0    0    0    0    0   15    0    9  288    0   91    0  643]\n",
      " [   0    0    0    0    0   46    0   11  157    0    6    0  205]\n",
      " [   0    0    0    0    0   48    1   24  487    0   59    1 1046]]\n",
      "\n",
      "Predictions:\n",
      "'I feel absolutely wonderful today!' -> happiness\n",
      "'This is so disappointing and frustrating.' -> sadness\n"
     ]
    },
    {
     "name": "stderr",
     "output_type": "stream",
     "text": [
      "C:\\Users\\MrLaptop\\anaconda3\\Lib\\site-packages\\sklearn\\metrics\\_classification.py:1344: UndefinedMetricWarning: Precision and F-score are ill-defined and being set to 0.0 in labels with no predicted samples. Use `zero_division` parameter to control this behavior.\n",
      "  _warn_prf(average, modifier, msg_start, len(result))\n"
     ]
    }
   ],
   "source": [
    "import pandas as pd\n",
    "from sklearn.model_selection import train_test_split\n",
    "from sklearn.feature_extraction.text import TfidfVectorizer\n",
    "from sklearn.naive_bayes import MultinomialNB\n",
    "from sklearn.metrics import accuracy_score, classification_report, confusion_matrix\n",
    "\n",
    "\n",
    "df = pd.read_csv('C:\\Users\\DELL\\Desktop\\tweets.csv')\n",
    "\n",
    "# Preview the dataset\n",
    "print(df.head())\n",
    "\n",
    "# Step 2: Preprocess Data\n",
    "# Ensure the dataset has the required columns\n",
    "assert 'Text' in df.columns and 'Emotion' in df.columns, \"Dataset must have 'text' and 'emotion' columns.\"\n",
    "\n",
    "# Split the data into features (X) and target labels (y)\n",
    "X = df['Text']\n",
    "y = df['Emotion']\n",
    "\n",
    "# Split into training and test sets\n",
    "X_train, X_test, y_train, y_test = train_test_split(X, y, test_size=0.2, random_state=42)\n",
    "\n",
    "# Step 3: TF-IDF Vectorization\n",
    "# Convert text into a TF-IDF representation\n",
    "tfidf_vectorizer = TfidfVectorizer(max_features=5000)  # Limit features to avoid overfitting\n",
    "X_train_tfidf = tfidf_vectorizer.fit_transform(X_train)\n",
    "X_test_tfidf = tfidf_vectorizer.transform(X_test)\n",
    "\n",
    "# Step 4: Train Naive Bayes Classifier\n",
    "nb_model = MultinomialNB()\n",
    "nb_model.fit(X_train_tfidf, y_train)\n",
    "\n",
    "# Step 5: Evaluate the Model\n",
    "# Make predictions on the test set\n",
    "y_pred = nb_model.predict(X_test_tfidf)\n",
    "\n",
    "# Evaluate accuracy and classification report\n",
    "accuracy = accuracy_score(y_test, y_pred)\n",
    "print(f\"Accuracy: {accuracy:.2f}\")\n",
    "print(\"\\nClassification Report:\\n\", classification_report(y_test, y_pred))\n",
    "\n",
    "# Confusion Matrix\n",
    "print(\"Confusion Matrix:\\n\", confusion_matrix(y_test, y_pred))\n",
    "\n",
    "# Step 6: Predict Emotion for New Text\n",
    "new_texts = [\"I feel absolutely wonderful today!\", \"This is so disappointing and frustrating.\"]\n",
    "new_texts_tfidf = tfidf_vectorizer.transform(new_texts)\n",
    "predictions = nb_model.predict(new_texts_tfidf)\n",
    "\n",
    "print(\"\\nPredictions:\")\n",
    "for text, emotion in zip(new_texts, predictions):\n",
    "    print(f\"'{text}' -> {emotion}\")\n"
   ]
  },
  {
   "cell_type": "code",
   "execution_count": null,
   "id": "a98bc293-64ae-4f54-931b-4737cb72e2b0",
   "metadata": {},
   "outputs": [],
   "source": []
  }
 ],
 "metadata": {
  "kernelspec": {
   "display_name": "Python 3 (ipykernel)",
   "language": "python",
   "name": "python3"
  },
  "language_info": {
   "codemirror_mode": {
    "name": "ipython",
    "version": 3
   },
   "file_extension": ".py",
   "mimetype": "text/x-python",
   "name": "python",
   "nbconvert_exporter": "python",
   "pygments_lexer": "ipython3",
   "version": "3.12.7"
  }
 },
 "nbformat": 4,
 "nbformat_minor": 5
}
